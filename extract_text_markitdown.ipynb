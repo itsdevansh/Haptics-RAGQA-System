{
 "cells": [
  {
   "cell_type": "code",
   "execution_count": 2,
   "metadata": {},
   "outputs": [],
   "source": [
    "from markitdown import MarkItDown #Microsoft Markitdown\n",
    "from langchain_ollama import OllamaLLM"
   ]
  },
  {
   "cell_type": "code",
   "execution_count": 3,
   "metadata": {},
   "outputs": [],
   "source": [
    "client =OllamaLLM(model = \"llama3.2-vision:latest\")\n",
    "md = MarkItDown(llm_client=client)"
   ]
  },
  {
   "cell_type": "code",
   "execution_count": 4,
   "metadata": {},
   "outputs": [
    {
     "name": "stdout",
     "output_type": "stream",
     "text": [
      "\n"
     ]
    }
   ],
   "source": [
    "#TODO Vision part not working as intended\n",
    "result = md.convert(\"Haptic Glove.jpg\")\n",
    "print(result.text_content)"
   ]
  },
  {
   "cell_type": "code",
   "execution_count": 9,
   "metadata": {},
   "outputs": [
    {
     "name": "stdout",
     "output_type": "stream",
     "text": [
      "\n",
      "Converting Haptic Glove.jpg...\n",
      "Successfully converted Haptic Glove.jpg to Haptic Glove.md\n",
      "\n",
      "Converting 978-3-319-93445-7.pdf...\n",
      "Successfully converted 978-3-319-93445-7.pdf to 978-3-319-93445-7.md\n",
      "\n",
      "Converting 978-3-642-14064-8.pdf...\n",
      "Successfully converted 978-3-642-14064-8.pdf to 978-3-642-14064-8.md\n",
      "\n",
      "All conversions completed!\n"
     ]
    }
   ],
   "source": [
    "import os\n",
    "supported_extensions = ('.pptx', '.docx', '.pdf', '.jpg', '.jpeg', '.png')\n",
    "files_to_convert = [f for f in os.listdir('.') if f.lower().endswith(supported_extensions)]\n",
    "for file in files_to_convert:\n",
    "    print(f\"\\nConverting {file}...\")\n",
    "    try:\n",
    "        md_file = os.path.splitext(file)[0] + '.md'\n",
    "        result = md.convert(file)\n",
    "        with open(md_file, 'w') as f:\n",
    "            f.write(result.text_content)\n",
    "        \n",
    "        print(f\"Successfully converted {file} to {md_file}\")\n",
    "    except Exception as e:\n",
    "        print(f\"Error converting {file}: {str(e)}\")\n",
    "\n",
    "print(\"\\nAll conversions completed!\")"
   ]
  },
  {
   "cell_type": "code",
   "execution_count": null,
   "metadata": {},
   "outputs": [],
   "source": [
    "http://localhost:8888/tree?token=2117d507e4e1056435439635d83f762035eb8e82d18e63f2"
   ]
  },
  {
   "cell_type": "code",
   "execution_count": null,
   "metadata": {},
   "outputs": [],
   "source": []
  }
 ],
 "metadata": {
  "kernelspec": {
   "display_name": "Python 3 (ipykernel)",
   "language": "python",
   "name": "python3"
  },
  "language_info": {
   "codemirror_mode": {
    "name": "ipython",
    "version": 3
   },
   "file_extension": ".py",
   "mimetype": "text/x-python",
   "name": "python",
   "nbconvert_exporter": "python",
   "pygments_lexer": "ipython3",
   "version": "3.12.6"
  }
 },
 "nbformat": 4,
 "nbformat_minor": 4
}
